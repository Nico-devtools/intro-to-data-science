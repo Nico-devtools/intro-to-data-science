{
 "cells": [
  {
   "cell_type": "markdown",
   "metadata": {},
   "source": [
    "# Solutions\n",
    "\n",
    "You can find sample solutions for the exercises on this page. **We strongly recommend that you solve the exercises on your own, before you take a look these solutions!**\n",
    "\n",
    "- [CSV Files and Data Frames](exercises/Solution_CSV_and_DataFrames)\n",
    "- [Data Exploration with Descriptive Statistics and Visualizations](exercises/Solution_Data_Exploration)"
   ]
  }
 ],
 "metadata": {
  "kernelspec": {
   "display_name": "Python 3",
   "language": "python",
   "name": "python3"
  },
  "language_info": {
   "codemirror_mode": {
    "name": "ipython",
    "version": 3
   },
   "file_extension": ".py",
   "mimetype": "text/x-python",
   "name": "python",
   "nbconvert_exporter": "python",
   "pygments_lexer": "ipython3",
   "version": "3.6.9"
  }
 },
 "nbformat": 4,
 "nbformat_minor": 2
}
