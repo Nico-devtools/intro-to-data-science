{
 "cells": [
  {
   "cell_type": "markdown",
   "metadata": {},
   "source": [
    "# Appendix\n",
    "\n",
    "## Mathematical Notations\n",
    "\n",
    "| Notation | Definition |\n",
    "|----------|------------|\n",
    "| $\\mathbb{R}$ | Real space, i.e., more or less any numerical value. |\n",
    "| $\\mathbb{N}$ | Natural numbers, i.e., any integer greater than 0. |\n",
    "| $O$ | Object space, i.e., a set of real-world objects. |\n",
    "| $\\phi$ | Feature map, i.e., a map that defines the values of the features for objects. |\n",
    "| $\\mathcal{F}$ | Feature space, i.e., the values of all features. Often the $\\mathbb{R}^d$, i.e., the $d$-dimensional real space. In this case there are $d \\in \\mathbb{N}$ features. |\n",
    "| $X$ (clustering, classification, regression)|  Used for the instances of objects in the feature space. Depending on the context, $X$ is either a set of instances have $X = \\{x_1, ..., x_n\\} \\subseteq \\mathcal{F}$. There are also some cases where $X$ is used as a random variable instead, the set would then be $n$ realizations of this random variable. |\n",
    "| $Y$ (clustering, classification, regression) | Used for the value of interest, e.g., the classes for classification or the dependent variable in regression. Defined either as a set $Y= \\{y_1, ..., y_n\\}$ or a random variable (see $X$). |\n",
    "| $I$ | Finite set of items \\{i_1, ..., i_m\\}.\n",
    "| $T$ | Finite set of transactions $T=\\{t_1, ..., t_n\\}$ where $t_i \\subseteq I$ for $i=1, ..., n$. |\n",
    "| $X$ (association rules) | Antecedent of an association rule. |\n",
    "| $Y$ (association rules) | Consequent of an association rule. |\n",
    "| $X \\Rightarrow Y$ | Association rule where $Y$ is a consequent of $X$. |\n",
    "| ${n \\choose k}$ | The binomial coefficient ${n \\choose k} = \\frac{n!}{(n-k)!k!}$. |\n",
    "| $\\mathcal{P}(I)$ | The power set of a finite set $I$. |\n",
    "| $\\vert \\cdot \\vert$ | Cardinality of a set, e.g., $\\vert X \\vert$ for the number of elements of $X$ |\n",
    "| $d(x,y)$ | Distance between two vectors $x$ and $y$, e.g., Euclidean distance, Manhattan distance, or Chebyshev distance. |\n",
    "| $argmin_{i=1,...,k} f(i)$ | The value of $i$ for which the function $f$ is minimized. |\n",
    "| $argmin_{i \\in \\{1, ..., k\\}} f(i)$ | Same as $argmin_{i=1,...,k} f(i)$. |\n",
    "| $\\min_{i=1,...,k} f(i)$ | The minimal value of the function $f$ for any value of $i$. |\n",
    "| $\\min_{i \\in \\{1, ..., k\\}} f(i)$ | Same as $\\min_{i=1, ..., k}$. |\n",
    "| $argmax$ | See $argmin$.\n",
    "| $\\max$ | See $\\min$.\n",
    "| $\\sim$ | Used to define the distribution of a random variable, e.g., $X \\sim (\\mu, \\sigma)$ to specify that $X$ is normally distributed with mean value $\\mu$ and standard deviation $\\sigma$. |\n",
    "| $C$ (classification) | Set of classes. |\n",
    "| $C$ (clustering) | Description of a cluster. |\n",
    "| $h$ | Hypothesis, concept, classifier, classification model. |\n",
    "| $h^*$ | Target concept. |\n",
    "| $h'_c$ | Score based hypothesis that computes the scores for the class $c$ |\n",
    "| $P(X=x)$ | Probability that the random variable $X$ is realized by the value $x$. \n",
    "| $p(x)$ | $p(x) = P(X=x)$ for a random variable $x$.\n",
    "| $P(X \\vert Y)$ | Conditional probability of the random variable $X$ given the random variable $Y$. \n",
    "| $H(X)$ | Entropy of the random variable $X$. |\n",
    "| $H(X \\vert Y)$ | Conditional entropy of the random variable $X$ given the random variable $Y$.\n",
    "| $I(X; Y)$ | Information gain for $X$/$Y$ if the other variable is known. Also known as mutual information. |\n",
    "| $e_x$ | Residual of a regression. |\n",
    "| $x_t$ | Values of a time series $\\{x_1, ..., x_T\\} = \\{x_t\\}_{t=1}^T$. \n",
    "| $T_t$ | Trend term of a time series. |\n",
    "| $S_t$ | Seasonal term of a time series. |\n",
    "| $R_t$ | Autoregressive term of a time series. |\n",
    "\n"
   ]
  }
 ],
 "metadata": {
  "kernelspec": {
   "display_name": "Python 3",
   "language": "python",
   "name": "python3"
  },
  "language_info": {
   "codemirror_mode": {
    "name": "ipython",
    "version": 3
   },
   "file_extension": ".py",
   "mimetype": "text/x-python",
   "name": "python",
   "nbconvert_exporter": "python",
   "pygments_lexer": "ipython3",
   "version": "3.6.9"
  }
 },
 "nbformat": 4,
 "nbformat_minor": 2
}
