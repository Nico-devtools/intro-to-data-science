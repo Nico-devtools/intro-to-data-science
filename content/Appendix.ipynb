{
 "cells": [
  {
   "cell_type": "markdown",
   "metadata": {},
   "source": [
    "# Appendix\n",
    "\n",
    "## Mathematical Notations\n",
    "\n",
    "| Notation | Definition |\n",
    "|----------|------------|\n",
    "| $\\mathbb{R}$ | Real space, i.e., more or less any numerical value. |\n",
    "| $\\mathbb{N}$ | Natural numbers, i.e., any integer greater than 0. |\n",
    "| $\\mathcal{F}$ | Feature space, i.e., the values of all features. Often the $\\mathbb{R}^d$, i.e., the $d$-dimensional real space. In this case there are $d \\in \\mathbb{N}$ features. |\n"
   ]
  }
 ],
 "metadata": {
  "kernelspec": {
   "display_name": "Python 3",
   "language": "python",
   "name": "python3"
  },
  "language_info": {
   "codemirror_mode": {
    "name": "ipython",
    "version": 3
   },
   "file_extension": ".py",
   "mimetype": "text/x-python",
   "name": "python",
   "nbconvert_exporter": "python",
   "pygments_lexer": "ipython3",
   "version": "3.6.9"
  }
 },
 "nbformat": 4,
 "nbformat_minor": 2
}
