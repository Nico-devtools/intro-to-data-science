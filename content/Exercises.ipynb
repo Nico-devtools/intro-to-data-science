{
 "cells": [
  {
   "cell_type": "markdown",
   "metadata": {},
   "source": [
    "# Exercises\n",
    "\n",
    "This online book is accompanied by some exercises that accompany the chapters to improve the understanding of the concepts. The exercises are provided as Jupyter notebooks, in which you can directly start to solve your exercises. Just use the download links at the top of the pages. \n",
    "\n",
    "- [A Brief Introduction to Jupyter Notebooks](exercises/Exercise_Getting_Started)\n",
    "- [CSV Files and Data Frames](exercises/Exercise_CSV_and_DataFrames)\n",
    "- [Data Exploration with Descriptive Statistics and Visualizations](exercises/Exercise_Data_Exploration)\n",
    "- [Association Rule Mining](exercises/Exercise_Association_Rule_Mining)\n",
    "- [Clustering](exercises/Exercise_Clustering)"
   ]
  }
 ],
 "metadata": {
  "kernelspec": {
   "display_name": "Python 3",
   "language": "python",
   "name": "python3"
  },
  "language_info": {
   "codemirror_mode": {
    "name": "ipython",
    "version": 3
   },
   "file_extension": ".py",
   "mimetype": "text/x-python",
   "name": "python",
   "nbconvert_exporter": "python",
   "pygments_lexer": "ipython3",
   "version": "3.6.9"
  }
 },
 "nbformat": 4,
 "nbformat_minor": 2
}
