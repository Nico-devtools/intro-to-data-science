{
 "cells": [
  {
   "cell_type": "markdown",
   "metadata": {},
   "source": [
    "# Exercises\n",
    "\n",
    "This online book is accompanied by some exercises that accompany the chapters to improve the understanding of the concepts. The exercises are provided as Jupyter notebooks, in which you can directly start to solve your exercises. \n",
    "\n",
    "- [Getting Started](exercises/Exercise_Getting_Started.ipynb)\n",
    "- [CSV Files and Data Frames](exercises/Exercise_CSV_and_DataFrames.ipynb)\n",
    "- [Data Exploration](exercises/Exercise_Data_Exploration.ipynb)"
   ]
  }
 ],
 "metadata": {
  "kernelspec": {
   "display_name": "Python 3",
   "language": "python",
   "name": "python3"
  },
  "language_info": {
   "codemirror_mode": {
    "name": "ipython",
    "version": 3
   },
   "file_extension": ".py",
   "mimetype": "text/x-python",
   "name": "python",
   "nbconvert_exporter": "python",
   "pygments_lexer": "ipython3",
   "version": "3.6.9"
  }
 },
 "nbformat": 4,
 "nbformat_minor": 2
}
