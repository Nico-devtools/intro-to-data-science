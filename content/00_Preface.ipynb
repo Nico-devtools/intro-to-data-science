{
 "cells": [
  {
   "cell_type": "markdown",
   "metadata": {},
   "source": [
    "# Preface\n",
    "\n",
    "Welcome to this script for my data science lecture. The script provides all required learning materials in order to pass the exam. However, this script is more: it is an interactive guide for getting started with data science. All code that is used, e.g., to perform sample analysis, create visualizations, etc. is directly included in the notebook.\n",
    "\n",
    "\n",
    "# Prerequisites\n",
    "\n",
    "In general, this course is designed to be relatively easy to follow for any student at the university level who has some affinity for working with data and ideally also the natural sciences. However, without at least some knowledge about mathematics and computer science, a complete understanding of the materials will not be possible, even though you should be able to understand most concepts. \n",
    "\n",
    "The following skills are required for a complete understanding of this script:\n",
    "\n",
    "- Basic programming skills, ideally also some Python knowledge. All contents of the script, with the exception of the programming examples, should be understandable without programming knowledge. \n",
    "- Mathematical notations commonly used in higher mathematics. Without this knowledge, you may not understand how all models for data analysis are working. Here are some example of simple formula that you should be able to read:\n",
    "  - $\\sum_{i=1}^n x_i$ (sum of the values $x_1$, ..., $x_n$)\n",
    "  - $\\Pi_{i=1}^n x_i$ (product of the values $x_1$, ..., $x_n$)\n",
    "  - $x = (x_1, ..., x_d) \\in \\mathbb{R}^d$ ($x$ is a $d$-dimensional real valued vector)\n",
    "- Stochastics, especially random variables and their distributions, e.g. normal/gaussian distribution, uniform distribution, exponential distribution, and binomial distribution. Without this knowledge you will have trouble understanding certain problems with data and - sometimes - models.\n",
    "\n",
    "# Installation of Required Software\n",
    "\n",
    "This script is provided has HTML, PDF, and as Jupyter Notebooks. For the HTML and PDF version no special software is required. For the Jupyter Notebooks, you need a running installation of Jupyter. \n",
    "\n",
    "Python 3.6\n",
    "scikit-learn 0.22"
   ]
  },
  {
   "cell_type": "code",
   "execution_count": null,
   "metadata": {},
   "outputs": [],
   "source": [
    " "
   ]
  }
 ],
 "metadata": {
  "kernelspec": {
   "display_name": "Python 3",
   "language": "python",
   "name": "python3"
  },
  "language_info": {
   "codemirror_mode": {
    "name": "ipython",
    "version": 3
   },
   "file_extension": ".py",
   "mimetype": "text/x-python",
   "name": "python",
   "nbconvert_exporter": "python",
   "pygments_lexer": "ipython3",
   "version": "3.6.9"
  }
 },
 "nbformat": 4,
 "nbformat_minor": 2
}
